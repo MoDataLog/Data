{
 "cells": [
  {
   "cell_type": "markdown",
   "id": "e38caa02",
   "metadata": {},
   "source": [
    "# Week 3 - Project: Churn Prediction for  StreamWorks Media. "
   ]
  },
  {
   "cell_type": "code",
   "execution_count": 2,
   "id": "5c6346d6",
   "metadata": {},
   "outputs": [],
   "source": [
    "import pandas as pd\n",
    "import matplotlib.pyplot as plt\n",
    "import seaborn as sns  \n",
    "import sklearn as sk"
   ]
  },
  {
   "cell_type": "markdown",
   "id": "6fc87a58",
   "metadata": {},
   "source": [
    "## 1. Load & Explore the Data "
   ]
  },
  {
   "cell_type": "code",
   "execution_count": null,
   "id": "895e251e",
   "metadata": {},
   "outputs": [],
   "source": [
    "file_name = 'streamworks_user_data.csv'"
   ]
  }
 ],
 "metadata": {
  "kernelspec": {
   "display_name": "Python [conda env:base] *",
   "language": "python",
   "name": "conda-base-py"
  },
  "language_info": {
   "codemirror_mode": {
    "name": "ipython",
    "version": 3
   },
   "file_extension": ".py",
   "mimetype": "text/x-python",
   "name": "python",
   "nbconvert_exporter": "python",
   "pygments_lexer": "ipython3",
   "version": "3.12.7"
  }
 },
 "nbformat": 4,
 "nbformat_minor": 5
}
